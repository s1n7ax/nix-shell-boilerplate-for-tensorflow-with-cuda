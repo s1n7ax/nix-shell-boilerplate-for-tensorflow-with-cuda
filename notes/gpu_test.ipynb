{
 "cells": [
  {
   "cell_type": "code",
   "execution_count": null,
   "id": "17c63799-13cf-41eb-b1f3-7f1f6a36021d",
   "metadata": {},
   "outputs": [],
   "source": [
    "import tensorflow as tf"
   ]
  },
  {
   "cell_type": "code",
   "execution_count": null,
   "id": "d03b60e2-f804-463e-b182-3cfc5a3b63d0",
   "metadata": {},
   "outputs": [],
   "source": [
    "tf.__version__"
   ]
  },
  {
   "cell_type": "code",
   "execution_count": 13,
   "id": "38f5c7cb-7afe-4843-a7a5-25584445187f",
   "metadata": {},
   "outputs": [],
   "source": [
    "# if following fails, that means GPU is not found by tensorflow\n",
    "assert len(tf.config.list_physical_devices('GPU')) >= 1"
   ]
  },
  {
   "cell_type": "code",
   "execution_count": null,
   "id": "0b1ac999-3ae2-412b-bd62-6b6b20a1758c",
   "metadata": {},
   "outputs": [],
   "source": []
  }
 ],
 "metadata": {
  "kernelspec": {
   "display_name": "Python 3 (ipykernel)",
   "language": "python",
   "name": "python3"
  },
  "language_info": {
   "codemirror_mode": {
    "name": "ipython",
    "version": 3
   },
   "file_extension": ".py",
   "mimetype": "text/x-python",
   "name": "python",
   "nbconvert_exporter": "python",
   "pygments_lexer": "ipython3",
   "version": "3.11.6"
  }
 },
 "nbformat": 4,
 "nbformat_minor": 5
}
